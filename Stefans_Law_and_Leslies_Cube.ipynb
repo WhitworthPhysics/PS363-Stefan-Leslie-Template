{
  "nbformat": 4,
  "nbformat_minor": 0,
  "metadata": {
    "colab": {
      "name": "Stefans Law and Leslies Cube.ipynb",
      "provenance": [],
      "authorship_tag": "ABX9TyMZjG7K/GiFRn7YSAzwG8Ri"
    },
    "kernelspec": {
      "name": "python3",
      "display_name": "Python 3"
    }
  },
  "cells": [
    {
      "cell_type": "markdown",
      "metadata": {
        "id": "F_XqAmrJVhzY"
      },
      "source": [
        "# Install and import libraries"
      ]
    },
    {
      "cell_type": "code",
      "metadata": {
        "id": "019-lCXoVF-C"
      },
      "source": [
        "!pip install whit-phys-util 1>/dev/null"
      ],
      "execution_count": null,
      "outputs": []
    },
    {
      "cell_type": "code",
      "metadata": {
        "id": "A4mza7SLVmVL"
      },
      "source": [
        "import numpy as np\r\n",
        "import pandas as pd\r\n",
        "import matplotlib.pyplot as plt\r\n",
        "import whit_phys_util as buc\r\n",
        "from scipy.interpolate import interp1d"
      ],
      "execution_count": null,
      "outputs": []
    },
    {
      "cell_type": "markdown",
      "metadata": {
        "id": "n73rTahQV7vU"
      },
      "source": [
        "# Connect to GitHub"
      ]
    },
    {
      "cell_type": "code",
      "metadata": {
        "id": "B4vT8xNJV9X2"
      },
      "source": [
        "repo = buc.local_repository(\"replace me\")"
      ],
      "execution_count": null,
      "outputs": []
    },
    {
      "cell_type": "markdown",
      "metadata": {
        "id": "5mACXiu_V_Ou"
      },
      "source": [
        "# Stefan's law"
      ]
    },
    {
      "cell_type": "markdown",
      "metadata": {
        "id": "SaeTHWf5WClm"
      },
      "source": [
        "## Equipment and materials\r\n",
        "| Description | Manufacturer | Model | ID or SN |\r\n",
        "| ----------- | ------------ | ----- | -------- |\r\n",
        "| radiation sensor | PASCO | fill in | fill in |\r\n",
        "| Stefan-Boltzmann lamp | PASCO | fill in | fill in |\r\n",
        "| Digital multimeters (2) | Fluke | fill in | fill in \r\n",
        "| Graphical digital multimeter | Fluke | fill in | fill in |\r\n",
        "| power supply (max. 13 V DC, min. 2 A) | fill in | fill in | fill in |\r\n",
        "| foam insulation, one side reflective | N/A | N/A | N/A |\r\n",
        "\r\n",
        "_You should replace the **fill in** entries with appropriate info._"
      ]
    },
    {
      "cell_type": "markdown",
      "metadata": {
        "id": "uDEQiiO9W94g"
      },
      "source": [
        "## Import data"
      ]
    },
    {
      "cell_type": "code",
      "metadata": {
        "id": "ipvfEQS4WBPe"
      },
      "source": [
        ""
      ],
      "execution_count": null,
      "outputs": []
    },
    {
      "cell_type": "markdown",
      "metadata": {
        "id": "9v-66UPTXIcQ"
      },
      "source": [
        "## Analysis"
      ]
    },
    {
      "cell_type": "code",
      "metadata": {
        "id": "W69FxsoPXJl9"
      },
      "source": [
        ""
      ],
      "execution_count": null,
      "outputs": []
    },
    {
      "cell_type": "markdown",
      "metadata": {
        "id": "l2z83Mz5XNDY"
      },
      "source": [
        "# Leslie's cube"
      ]
    },
    {
      "cell_type": "markdown",
      "metadata": {
        "id": "kH8pRPfKXRk1"
      },
      "source": [
        "## Equipment and materials\r\n",
        "| Description | Manufacturer | Model | ID or SN |\r\n",
        "| ----------- | ------------ | ----- | -------- |\r\n",
        "| radiation sensor | PASCO | fill in | fill in |\r\n",
        "| thermal radiation cube | PASCO | fill in | fill in |\r\n",
        "| Digital multimeters (2) | Fluke | fill in | fill in \r\n",
        "\r\n",
        "_You should replace the **fill in** entries with appropriate info._"
      ]
    },
    {
      "cell_type": "markdown",
      "metadata": {
        "id": "p9KDpYDfX67c"
      },
      "source": [
        "## Import data"
      ]
    },
    {
      "cell_type": "code",
      "metadata": {
        "id": "74we8-IXXPJI"
      },
      "source": [
        ""
      ],
      "execution_count": null,
      "outputs": []
    },
    {
      "cell_type": "markdown",
      "metadata": {
        "id": "RnqYAse9X9jJ"
      },
      "source": [
        "## Analysis"
      ]
    },
    {
      "cell_type": "code",
      "metadata": {
        "id": "gT-6ui_TX-8f"
      },
      "source": [
        ""
      ],
      "execution_count": null,
      "outputs": []
    }
  ]
}
